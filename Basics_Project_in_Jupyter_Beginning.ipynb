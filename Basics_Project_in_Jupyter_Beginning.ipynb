{
 "cells": [
  {
   "cell_type": "markdown",
   "metadata": {},
   "source": [
    "## Opening the file \n",
    "To Open the file I used the `reader` object from CSV file to open the `AppleStore.csv` file and assigned the list to the variable `data` beginning from the `zero` index."
   ]
  },
  {
   "cell_type": "code",
   "execution_count": 6,
   "metadata": {},
   "outputs": [],
   "source": [
    "from csv import reader\n",
    "file= open('AppleStore.csv')\n",
    "read=reader(file)\n",
    "data=list(read)\n",
    "\n"
   ]
  },
  {
   "cell_type": "markdown",
   "metadata": {},
   "source": [
    "### Information about the dataset opened above\n",
    "THe data set that we opened above, named `AppleStore.csv` has the information of all the apps in the ios appstore. The source of the dataset is [AppleStore.csv](https://www.kaggle.com/datasets/ramamet4/app-store-apple-data-set-10k-apps). Below I ahve showed you the name of each header in the table."
   ]
  },
  {
   "cell_type": "code",
   "execution_count": 15,
   "metadata": {},
   "outputs": [
    {
     "name": "stdout",
     "output_type": "stream",
     "text": [
      "1. id\n",
      "2. track_name\n",
      "3. size_bytes\n",
      "4. currency\n",
      "5. price\n",
      "6. rating_count_tot\n",
      "7. rating_count_ver\n",
      "8. user_rating\n",
      "9. user_rating_ver\n",
      "10. ver\n",
      "11. cont_rating\n",
      "12. prime_genre\n",
      "13. sup_devices.num\n",
      "14. ipadSc_urls.num\n",
      "15. lang.num\n",
      "16. vpp_lic\n"
     ]
    }
   ],
   "source": [
    "for x in range(len(data[0])):\n",
    "    print(str(x+1)+'.', data[0][x])\n",
    "   "
   ]
  },
  {
   "cell_type": "markdown",
   "metadata": {},
   "source": [
    "### Below I'll create a table so that you can understand what each column means:\n",
    "---\n",
    "\n",
    "| Title       | Description |\n",
    "|:---         | :---        |\n",
    "|Id           | App ID      |\n",
    "| track_name  | app name        |\n",
    "| currency  | currency type        |\n",
    "| price  | price of app        |\n",
    "| rating_count_tot  | total ratings of app        |\n",
    "| rating_count_ver  | ratings for the current version        |\n",
    "| user_rating  | rating of the app(for all versions)        |\n",
    "| user_rating_ver  | ratings of the app(current version)        |\n",
    "| user_rating_ver  | Text        |\n",
    "|ver           | version    |\n",
    "|cont_rating           | content rating      |\n",
    "|prime_genre           | primary genre      |\n",
    "|sup_devices.num           |supporting devices   |\n",
    "|ipadSc_urls.num        | Number of screenshots showed for display|\n",
    "|lang.num          |number of supporting languages     |\n",
    "|vpp_lic          | Vpp Device Based Licensing Enabled      |\n"
   ]
  }
 ],
 "metadata": {
  "kernelspec": {
   "display_name": "Python 3",
   "language": "python",
   "name": "python3"
  },
  "language_info": {
   "codemirror_mode": {
    "name": "ipython",
    "version": 3
   },
   "file_extension": ".py",
   "mimetype": "text/x-python",
   "name": "python",
   "nbconvert_exporter": "python",
   "pygments_lexer": "ipython3",
   "version": "3.8.2"
  }
 },
 "nbformat": 4,
 "nbformat_minor": 2
}
